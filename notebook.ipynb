{
 "cells": [
  {
   "cell_type": "markdown",
   "id": "52ab8c3d-8889-43b8-91aa-ac33481265dc",
   "metadata": {},
   "source": [
    "# GENAI WITH PYTHON"
   ]
  },
  {
   "cell_type": "markdown",
   "id": "c12bda2c-2441-4f01-bca7-5c2ec4033662",
   "metadata": {},
   "source": [
    "###### Article()"
   ]
  },
  {
   "cell_type": "markdown",
   "id": "0e041e0d-49d1-4443-8318-90899242305e",
   "metadata": {},
   "source": [
    "### Data"
   ]
  },
  {
   "cell_type": "code",
   "execution_count": 1,
   "id": "e18d1d45-038b-4c77-8015-5b23798e5118",
   "metadata": {},
   "outputs": [],
   "source": [
    "data = \"\"\"\n",
    "In the heart of bustling Hong Kong, where towering skyscrapers kissed the clouds and neon lights danced on waterways, lived an unassuming pigeon named Po. Unlike his city-dwelling brethren who\n",
    "sought fame in the concrete jungle, Po had a special talent that was hidden away from human eyes—the ability to understand simple Chinese phrases.\n",
    "\n",
    "Long ago, when Hong Kong was just a sleepy fishing village with lush green mountains surrounding it, Pigeons like Po were commonplace. They fluttered through the air gracefully and made their home\n",
    "in every nook and cranny of this beautiful land. However, as human development surged forward, these pigeons found themselves pushed out to make room for modernization's relentless march.\n",
    "\n",
    "But one particular Pigeon named Po had a unique gift—a hidden ability he unknowingly acquired over generations through the stories and songs of his ancestors. As it turned out, Pigeons in this\n",
    "ancient village could understand human language by accidentally picking up on repeated conversations around them. This rare trait, which nobody ever noticed until now, was known as \"exaptation.\"\n",
    "\n",
    "Po had always been an ordinary pigeon—a creature of the city who found solace perched atop a weathered stone column that still stood in a small park near his makeshift roosting place. As time passed\n",
    "and Hong Kong evolved into its modern self, Po's ability to comprehend human language went unnoticed until one fateful day when he happened upon an old man who frequently visited the same spot for\n",
    "solitude.\n",
    "\n",
    "The elderly gentleman was a retired linguist named Mr. Lee, who had spent his life studying and teaching Chinese languages—specifically Classical Chinese, Mandarin, and Cantonese. Struck by Po's\n",
    "unique talent in understanding human speech, he decided to test the pigeon further with small phrases whispered beneath the park bench where they sat side-by-side, forming an unexpected friendship\n",
    "that defied all logic—the bond between a man and his animal companion.\n",
    "\n",
    "As their peculiar relationship grew stronger, Po began accompanying Mr. Lee on daily strolls through Hong Kong's vibrant neighborhoods, sharing the city's stories from above with him. The pigeon\n",
    "would listen carefully as Mr. Lee spoke in different dialects and tones of Chinese—whether it be his native Cantonese or a phrase he learned during his travels across Europe and Asia.\n",
    "\n",
    "Po's remarkable gift became well-known among the locals, who started referring to him affectionately as \"Chou Po,\" meaning 'wise pigeon.' Tourists would flock from faraway lands, hoping for a chance\n",
    "encounter with this miraculous bird that could converse in their mother tongue.\n",
    "\n",
    "With each passing day, Hong Kong witnessed the enchanting tale of Chou Po—a humble creature who had adapted and thrived amidst an ever-changing cityscape. The story reminded its inhabitants to\n",
    "embrace their roots while remaining open to new experiences, much like the wise pigeon that soared through Hong Kong's skyline with grace and wisdom.\n",
    "\n",
    "And though Pigeons no longer roosted freely on every building corner or tree branch of the city—thanks in part to Chou Po’s fame—his legacy endured. His gift had given new life to an ancient form of\n",
    "communication, bringing people closer together through a shared language that transcended cultural barriers and connected Hong Kong's diverse population even more deeply than before.\n",
    "\n",
    "For years to come, the tale of Chou Po would be passed down from generation to generation—an enduring reminder of how exaptation could lead to extraordinary outcomes in the most unexpected ways. And\n",
    "as long as there are pigeons flying through Hong Kong's skies and people eager to explore its rich linguistic tapestry, Chou Po’s legacy will continue to inspire all who hear his remarkable story.\n",
    "\"\"\""
   ]
  },
  {
   "cell_type": "code",
   "execution_count": 2,
   "id": "8f4a45a8-1957-4f4d-ac9d-e5d3963d7a79",
   "metadata": {},
   "outputs": [
    {
     "name": "stdout",
     "output_type": "stream",
     "text": [
      "0- In the heart of bustling Hong Kong, where towering skyscrapers kissed the clouds and neon lights danced on waterways, lived an unassuming pigeon named Po. Unlike his city-dwelling brethren who\n",
      "sought fame in the concrete jungle, Po had a special talent that was hidden away from human eyes—the ability to understand simple Chinese phrases.\n",
      "1- Long ago, when Hong Kong was just a sleepy fishing village with lush green mountains surrounding it, Pigeons like Po were commonplace. They fluttered through the air gracefully and made their home\n",
      "in every nook and cranny of this beautiful land. However, as human development surged forward, these pigeons found themselves pushed out to make room for modernization's relentless march.\n"
     ]
    }
   ],
   "source": [
    "lst_docs, lst_ids = [], []\n",
    "for n,p in enumerate(data.split('\\n\\n')):\n",
    "    if p.strip():\n",
    "        lst_docs.append(p.strip())\n",
    "        lst_ids.append(str(n))\n",
    "\n",
    "for id,doc in zip(lst_ids[:2], lst_docs[:2]):\n",
    "    print(id+\"-\", doc)"
   ]
  },
  {
   "cell_type": "markdown",
   "id": "3833ef7c-0d8c-4b26-9fc4-4af92f71f30e",
   "metadata": {},
   "source": [
    "### OCR"
   ]
  },
  {
   "cell_type": "code",
   "execution_count": null,
   "id": "9ecfbebf-0fca-421a-871c-3a76690dccf0",
   "metadata": {},
   "outputs": [],
   "source": []
  },
  {
   "cell_type": "markdown",
   "id": "24d0fcde-ff35-4a0c-b740-713a9275b636",
   "metadata": {},
   "source": [
    "### Embedding"
   ]
  },
  {
   "cell_type": "code",
   "execution_count": null,
   "id": "9abacf19-46ea-4dfe-86fc-f9d1e016f0c5",
   "metadata": {},
   "outputs": [],
   "source": []
  },
  {
   "cell_type": "markdown",
   "id": "27de7542-a762-4056-bc79-68782f453211",
   "metadata": {},
   "source": [
    "### Database"
   ]
  },
  {
   "cell_type": "code",
   "execution_count": 48,
   "id": "0f60911f-8111-40de-9bca-ec8dbc11bd4b",
   "metadata": {},
   "outputs": [
    {
     "name": "stderr",
     "output_type": "stream",
     "text": [
      "huggingface/tokenizers: The current process just got forked, after parallelism has already been used. Disabling parallelism to avoid deadlocks...\n",
      "To disable this warning, you can either:\n",
      "\t- Avoid using `tokenizers` before the fork if possible\n",
      "\t- Explicitly set the environment variable TOKENIZERS_PARALLELISM=(true | false)\n"
     ]
    },
    {
     "name": "stdout",
     "output_type": "stream",
     "text": [
      "\u001b[1m\n",
      "\n",
      "                \u001b[38;5;069m(((((((((    \u001b[38;5;203m(((((\u001b[38;5;220m####\n",
      "             \u001b[38;5;069m(((((((((((((\u001b[38;5;203m(((((((((\u001b[38;5;220m#########\n",
      "           \u001b[38;5;069m(((((((((((((\u001b[38;5;203m(((((((((((\u001b[38;5;220m###########\n",
      "         \u001b[38;5;069m((((((((((((((\u001b[38;5;203m((((((((((((\u001b[38;5;220m############\n",
      "        \u001b[38;5;069m(((((((((((((\u001b[38;5;203m((((((((((((((\u001b[38;5;220m#############\n",
      "        \u001b[38;5;069m(((((((((((((\u001b[38;5;203m((((((((((((((\u001b[38;5;220m#############\n",
      "         \u001b[38;5;069m((((((((((((\u001b[38;5;203m(((((((((((((\u001b[38;5;220m##############\n",
      "         \u001b[38;5;069m((((((((((((\u001b[38;5;203m((((((((((((\u001b[38;5;220m##############\n",
      "           \u001b[38;5;069m((((((((((\u001b[38;5;203m(((((((((((\u001b[38;5;220m#############\n",
      "             \u001b[38;5;069m((((((((\u001b[38;5;203m((((((((\u001b[38;5;220m##############\n",
      "                \u001b[38;5;069m(((((\u001b[38;5;203m((((    \u001b[38;5;220m#########\u001b[0m\n",
      "\n",
      "    \n",
      "\u001b[1m\n",
      "Running Chroma\n",
      "\u001b[0m\n",
      "\u001b[1mSaving data to\u001b[0m: \u001b[32m./chroma_data\u001b[0m\n",
      "\u001b[1mConnect to chroma at\u001b[0m: \u001b[32mhttp://localhost:8000\u001b[0m\n",
      "\u001b[1mGetting started guide\u001b[0m: https://docs.trychroma.com/getting-started\n",
      "\n",
      "\n",
      "^C\n",
      "\n",
      "\u001b[31mAborted.\u001b[0m\n"
     ]
    }
   ],
   "source": [
    "!chroma run"
   ]
  },
  {
   "cell_type": "code",
   "execution_count": 8,
   "id": "f1904546-15a0-4e36-9da2-f669f6f8fb55",
   "metadata": {},
   "outputs": [
    {
     "data": {
      "text/plain": [
       "[]"
      ]
     },
     "execution_count": 8,
     "metadata": {},
     "output_type": "execute_result"
    }
   ],
   "source": [
    "import chromadb\n",
    "\n",
    "db = chromadb.Client()\n",
    "db.list_collections()"
   ]
  },
  {
   "cell_type": "code",
   "execution_count": 10,
   "id": "5694b5cf-0bf5-4392-a2c4-4772d8b4ac67",
   "metadata": {},
   "outputs": [],
   "source": [
    "if \"test\" in [c.name for c in db.list_collections()]:\n",
    "    db.delete_collection(\"test\")\n",
    "    print(\"--- deleted ---\")\n",
    "\n",
    "collection = db.get_or_create_collection(\"test\")\n",
    "collection.add(documents=lst_docs, ids=lst_ids, metadatas=None, images=None, embeddings=None)"
   ]
  },
  {
   "cell_type": "code",
   "execution_count": 11,
   "id": "dd31d073-c137-4dcd-9385-7322c1d1ad11",
   "metadata": {},
   "outputs": [
    {
     "data": {
      "text/plain": [
       "{'ids': [['1', '0', '8', '7', '9', '6', '3', '5', '2', '4']],\n",
       " 'distances': [[1.6457339525222778,\n",
       "   1.653356671333313,\n",
       "   1.7579771280288696,\n",
       "   1.8230180740356445,\n",
       "   1.8487082719802856,\n",
       "   1.8595874309539795,\n",
       "   1.8839184045791626,\n",
       "   1.8907674551010132,\n",
       "   1.9832897186279297,\n",
       "   2.0452218055725098]],\n",
       " 'metadatas': [[None, None, None, None, None, None, None, None, None, None]],\n",
       " 'embeddings': None,\n",
       " 'documents': [[\"Long ago, when Hong Kong was just a sleepy fishing village with lush green mountains surrounding it, Pigeons like Po were commonplace. They fluttered through the air gracefully and made their home\\nin every nook and cranny of this beautiful land. However, as human development surged forward, these pigeons found themselves pushed out to make room for modernization's relentless march.\",\n",
       "   'In the heart of bustling Hong Kong, where towering skyscrapers kissed the clouds and neon lights danced on waterways, lived an unassuming pigeon named Po. Unlike his city-dwelling brethren who\\nsought fame in the concrete jungle, Po had a special talent that was hidden away from human eyes—the ability to understand simple Chinese phrases.',\n",
       "   \"And though Pigeons no longer roosted freely on every building corner or tree branch of the city—thanks in part to Chou Po’s fame—his legacy endured. His gift had given new life to an ancient form of\\ncommunication, bringing people closer together through a shared language that transcended cultural barriers and connected Hong Kong's diverse population even more deeply than before.\",\n",
       "   \"With each passing day, Hong Kong witnessed the enchanting tale of Chou Po—a humble creature who had adapted and thrived amidst an ever-changing cityscape. The story reminded its inhabitants to\\nembrace their roots while remaining open to new experiences, much like the wise pigeon that soared through Hong Kong's skyline with grace and wisdom.\",\n",
       "   \"For years to come, the tale of Chou Po would be passed down from generation to generation—an enduring reminder of how exaptation could lead to extraordinary outcomes in the most unexpected ways. And\\nas long as there are pigeons flying through Hong Kong's skies and people eager to explore its rich linguistic tapestry, Chou Po’s legacy will continue to inspire all who hear his remarkable story.\",\n",
       "   'Po\\'s remarkable gift became well-known among the locals, who started referring to him affectionately as \"Chou Po,\" meaning \\'wise pigeon.\\' Tourists would flock from faraway lands, hoping for a chance\\nencounter with this miraculous bird that could converse in their mother tongue.',\n",
       "   \"Po had always been an ordinary pigeon—a creature of the city who found solace perched atop a weathered stone column that still stood in a small park near his makeshift roosting place. As time passed\\nand Hong Kong evolved into its modern self, Po's ability to comprehend human language went unnoticed until one fateful day when he happened upon an old man who frequently visited the same spot for\\nsolitude.\",\n",
       "   \"As their peculiar relationship grew stronger, Po began accompanying Mr. Lee on daily strolls through Hong Kong's vibrant neighborhoods, sharing the city's stories from above with him. The pigeon\\nwould listen carefully as Mr. Lee spoke in different dialects and tones of Chinese—whether it be his native Cantonese or a phrase he learned during his travels across Europe and Asia.\",\n",
       "   'But one particular Pigeon named Po had a unique gift—a hidden ability he unknowingly acquired over generations through the stories and songs of his ancestors. As it turned out, Pigeons in this\\nancient village could understand human language by accidentally picking up on repeated conversations around them. This rare trait, which nobody ever noticed until now, was known as \"exaptation.\"',\n",
       "   \"The elderly gentleman was a retired linguist named Mr. Lee, who had spent his life studying and teaching Chinese languages—specifically Classical Chinese, Mandarin, and Cantonese. Struck by Po's\\nunique talent in understanding human speech, he decided to test the pigeon further with small phrases whispered beneath the park bench where they sat side-by-side, forming an unexpected friendship\\nthat defied all logic—the bond between a man and his animal companion.\"]],\n",
       " 'uris': None,\n",
       " 'data': None}"
      ]
     },
     "execution_count": 11,
     "metadata": {},
     "output_type": "execute_result"
    }
   ],
   "source": [
    "query = \"In what city are they?\"\n",
    "collection.query(query_texts=[query])"
   ]
  },
  {
   "cell_type": "code",
   "execution_count": 12,
   "id": "60d6671e-ac5f-4e28-b411-728a6233291c",
   "metadata": {},
   "outputs": [
    {
     "data": {
      "text/plain": [
       "\"Long ago, when Hong Kong was just a sleepy fishing village with lush green mountains surrounding it, Pigeons like Po were commonplace. They fluttered through the air gracefully and made their home in every nook and cranny of this beautiful land. However, as human development surged forward, these pigeons found themselves pushed out to make room for modernization's relentless march. In the heart of bustling Hong Kong, where towering skyscrapers kissed the clouds and neon lights danced on waterways, lived an unassuming pigeon named Po. Unlike his city-dwelling brethren who sought fame in the concrete jungle, Po had a special talent that was hidden away from human eyes—the ability to understand simple Chinese phrases. And though Pigeons no longer roosted freely on every building corner or tree branch of the city—thanks in part to Chou Po’s fame—his legacy endured. His gift had given new life to an ancient form of communication, bringing people closer together through a shared language that transcended cultural barriers and connected Hong Kong's diverse population even more deeply than before.\""
      ]
     },
     "execution_count": 12,
     "metadata": {},
     "output_type": "execute_result"
    }
   ],
   "source": [
    "res_db = collection.query(query_texts=[query])[\"documents\"][0][0:3]\n",
    "context = ' '.join(res_db).replace(\"\\n\", \" \")\n",
    "context"
   ]
  },
  {
   "cell_type": "markdown",
   "id": "2ca912b0-9984-4392-9bab-f5b781875a35",
   "metadata": {},
   "source": [
    "### LLM"
   ]
  },
  {
   "cell_type": "code",
   "execution_count": 14,
   "id": "ab774fad-661a-4e7c-af60-188dde8930ed",
   "metadata": {},
   "outputs": [
    {
     "name": "stdout",
     "output_type": "stream",
     "text": [
      "In what city are they?\n",
      "\n",
      "Use this information:\n",
      "Long ago, when Hong Kong was just a sleepy fishing village with lush green mountains surrounding it, Pigeons like Po were commonplace. They fluttered through the air gracefully and made their home in every nook and cranny of this beautiful land. However, as human development surged forward, these pigeons found themselves pushed out to make room for modernization's relentless march. In the heart of bustling Hong Kong, where towering skyscrapers kissed the clouds and neon lights danced on waterways, lived an unassuming pigeon named Po. Unlike his city-dwelling brethren who sought fame in the concrete jungle, Po had a special talent that was hidden away from human eyes—the ability to understand simple Chinese phrases. And though Pigeons no longer roosted freely on every building corner or tree branch of the city—thanks in part to Chou Po’s fame—his legacy endured. His gift had given new life to an ancient form of communication, bringing people closer together through a shared language that transcended cultural barriers and connected Hong Kong's diverse population even more deeply than before.\n"
     ]
    }
   ],
   "source": [
    "import ollama\n",
    "\n",
    "prompt = f\"{query}\\n\\nUse this information:\\n{context}\"\n",
    "print(prompt)"
   ]
  },
  {
   "cell_type": "code",
   "execution_count": 16,
   "id": "1c459133-c6c3-46af-98c9-9fe85126866c",
   "metadata": {},
   "outputs": [
    {
     "name": "stdout",
     "output_type": "stream",
     "text": [
      " The information provided does not explicitly mention the current city they are in. However, based on the context about Hong Kong being transformed from a sleepy fishing village to a bustling metropolis with towering skyscrapers, it can be inferred that Po, the pigeon mentioned in the story, is located in present-day Hong Kong.\n"
     ]
    }
   ],
   "source": [
    "# Generate from Context\n",
    "res = ollama.generate(model=\"phi3\", prompt=prompt)\n",
    "print(res[\"response\"])"
   ]
  },
  {
   "cell_type": "code",
   "execution_count": 20,
   "id": "9e3767e4-40ee-4c39-a973-1b4aded9069d",
   "metadata": {},
   "outputs": [
    {
     "name": "stdout",
     "output_type": "stream",
     "text": [
      " The pigeon named Po resided in the bustling metropolis of Hong Kong.\n"
     ]
    }
   ],
   "source": [
    "# Chat with Context only\n",
    "res = ollama.chat(model=\"phi3\", \n",
    "                  messages=[{\"role\":\"system\", \"content\":\"Give the most accurate answer using only \\\n",
    "                                                         the folling additional information \\n\"+context},\n",
    "                            {\"role\":\"user\", \"content\":query}])\n",
    "print(res[\"message\"][\"content\"])"
   ]
  },
  {
   "cell_type": "code",
   "execution_count": 115,
   "id": "c9d919d2-845a-4ef6-b5d0-5578c7845f6f",
   "metadata": {},
   "outputs": [
    {
     "name": "stdout",
     "output_type": "stream",
     "text": [
      " The pigeon named Po lived in the bustling city of Hong Kong. Hong Kong is an international metropolis located on the eastern side of the Pearl River Delta, bordered by mainland China and Taiwan, with its own distinct culture and history. This cosmopolitan city has a unique blend of Eastern and Western influences, reflected in its skyline adorned with iconic skyscrapers like the Bank of China Tower and the International Commerce Centre, as well as its vibrant neighborhoods filled with traditional Chinese markets, colonial architecture, and lush green spaces.\n",
      "\n",
      "Hong Kong's population is incredibly diverse, consisting mainly of ethnic Chinese but also including a significant number of immigrants from other parts of Asia, Europe, North America, and Oceania. The city serves as an important gateway between China and the rest of the world due to its proximity to mainland China, making it one of the most visited destinations in East Asia.\n",
      "\n",
      "In summary, Po lived in Hong Kong, a dynamic urban environment where traditional values coexist with modern development, fostering a multicultural society that embraces both old and new forms of communication, such as his unique talent for understanding simple Chinese phrases.\n"
     ]
    }
   ],
   "source": [
    "# Chat with knowledge + Context\n",
    "res = ollama.chat(model=\"phi3\", \n",
    "                  messages=[{\"role\":\"system\", \"content\":\"Give the most accurate answer using your knowledge \\\n",
    "                                                         and the folling additional information \\n\"+context},\n",
    "                            {\"role\":\"user\", \"content\":query}])\n",
    "print(res[\"message\"][\"content\"])"
   ]
  },
  {
   "cell_type": "code",
   "execution_count": 17,
   "id": "a148667b-c3d6-46b0-b9d5-cadc63220903",
   "metadata": {},
   "outputs": [],
   "source": [
    "# Chat Stream\n",
    "res = ollama.chat(model=\"phi3\", \n",
    "                  messages=[{\"role\":\"system\", \"content\":\"Give the most accurate answer using your knowledge \\\n",
    "                                                         and the folling additional information \\n\"+context},\n",
    "                            {\"role\":\"user\", \"content\":query}],\n",
    "                  stream=True)\n",
    "for chunk in res:\n",
    "    print(chunk[\"message\"][\"content\"], end=\"\")"
   ]
  }
 ],
 "metadata": {
  "kernelspec": {
   "display_name": "Python 3 (ipykernel)",
   "language": "python",
   "name": "python3"
  },
  "language_info": {
   "codemirror_mode": {
    "name": "ipython",
    "version": 3
   },
   "file_extension": ".py",
   "mimetype": "text/x-python",
   "name": "python",
   "nbconvert_exporter": "python",
   "pygments_lexer": "ipython3",
   "version": "3.8.19"
  }
 },
 "nbformat": 4,
 "nbformat_minor": 5
}
